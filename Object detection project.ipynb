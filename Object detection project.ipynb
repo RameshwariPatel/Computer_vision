{
 "cells": [
  {
   "cell_type": "code",
   "execution_count": 5,
   "metadata": {},
   "outputs": [],
   "source": [
    "import cv2\n",
    "import numpy as np\n",
    "\n",
    "\n",
    "def sift_detector(new_image,image_template):\n",
    "    #Function that compares input image to template. \n",
    "    #it then returns the number of sift matches between them\n",
    "    \n",
    "    image1 = cv2.cvtColor(new_image,cv2.COLOR_BGR2GRAY)\n",
    "    image2 = image_template\n",
    "    \n",
    "    # create a sift dectector object\n",
    "    #sift = cv2.sift()\n",
    "    sift = cv2.xfeatures2d.SIFT_create()\n",
    "    \n",
    "    #obtain the keypoints and descriptors usng SIFT\n",
    "    keypoints_1,descriptors_1 = sift.detectAndCompute(image1 , None)\n",
    "    keypoints_2,descriptors_2 = sift.detectAndCompute(image2 , None)\n",
    "    \n",
    "    #define parameters for our flann matcher\n",
    "    FLANN_INDEX_KDTREE = 0\n",
    "    index_params = dict(algorithm = FLANN_INDEX_KDTREE,tress = 3)\n",
    "    search_params = dict(checks = 100)\n",
    "    \n",
    "    #create the flann matcher object\n",
    "    flann = cv2.FlannBasedMatcher(index_params,search_params)\n",
    "    \n",
    "    # obtain matches using knn method\n",
    "    # the result 'matchs' is the number of similar matches found in both images\n",
    "    matches = flann.knnMatch(descriptors_1,descriptors_2,k = 2)\n",
    "    \n",
    "    # Store good matches using lowe's ratio test\n",
    "    good_matches=[]\n",
    "    for m,n in matches:\n",
    "        if m.distance < 0.7 *n.distance:\n",
    "            good_matches.append(m)\n",
    "    return len(good_matches)\n",
    "\n"
   ]
  },
  {
   "cell_type": "code",
   "execution_count": 7,
   "metadata": {},
   "outputs": [
    {
     "ename": "TypeError",
     "evalue": "'NoneType' object is not subscriptable",
     "output_type": "error",
     "traceback": [
      "\u001b[1;31m---------------------------------------------------------------------------\u001b[0m",
      "\u001b[1;31mTypeError\u001b[0m                                 Traceback (most recent call last)",
      "\u001b[1;32m<ipython-input-7-c7a26b5f2635>\u001b[0m in \u001b[0;36m<module>\u001b[1;34m()\u001b[0m\n\u001b[0;32m     21\u001b[0m \u001b[1;33m\u001b[0m\u001b[0m\n\u001b[0;32m     22\u001b[0m     \u001b[1;31m# crop window of observation we define above\u001b[0m\u001b[1;33m\u001b[0m\u001b[1;33m\u001b[0m\u001b[0m\n\u001b[1;32m---> 23\u001b[1;33m     \u001b[0mcropped\u001b[0m \u001b[1;33m=\u001b[0m \u001b[0mframe\u001b[0m\u001b[1;33m[\u001b[0m\u001b[0mbottom_right_y\u001b[0m\u001b[1;33m:\u001b[0m\u001b[0mtop_left_y\u001b[0m\u001b[1;33m,\u001b[0m\u001b[0mtop_left_x\u001b[0m \u001b[1;33m:\u001b[0m\u001b[0mbottom_right_x\u001b[0m\u001b[1;33m]\u001b[0m\u001b[1;33m\u001b[0m\u001b[0m\n\u001b[0m\u001b[0;32m     24\u001b[0m \u001b[1;33m\u001b[0m\u001b[0m\n\u001b[0;32m     25\u001b[0m     \u001b[1;31m# flip frame orientation horizontally\u001b[0m\u001b[1;33m\u001b[0m\u001b[1;33m\u001b[0m\u001b[0m\n",
      "\u001b[1;31mTypeError\u001b[0m: 'NoneType' object is not subscriptable"
     ]
    }
   ],
   "source": [
    "cap = cv2.VideoCapture(0)\n",
    "\n",
    "# laod image template, this is our reference image\n",
    "image_template = cv2.imread('images/iphone.jpg',0)\n",
    "\n",
    "while True:\n",
    "    #get webcam images\n",
    "    ret,frame = cap.read()\n",
    "    \n",
    "    #get height and width of webcam frame\n",
    "    height,width = 480,640 \n",
    "    \n",
    "    #Define ROI BOX Dimensions\n",
    "    top_left_x = int (width / 3)\n",
    "    top_left_y = int((height / 2) + (height / 4))\n",
    "    bottom_right_x = int((width / 3) * 2 )\n",
    "    bottom_right_y = int( (height / 2) - (height / 4) )\n",
    "    \n",
    "    # Draw rectangular window of our region of interest\n",
    "    cv2.rectangle(frame,(top_left_x,top_left_y),(bottom_right_x,bottom_right_y),255 , 3)\n",
    "    \n",
    "    # crop window of observation we define above\n",
    "    cropped = frame[bottom_right_y:top_left_y,top_left_x :bottom_right_x]\n",
    "    \n",
    "    # flip frame orientation horizontally\n",
    "    frame = cv2.flip(frame,1)\n",
    "    \n",
    "    # get number of sift matches\n",
    "    matches = sift_detector(cropped,image_template)\n",
    "    \n",
    "    #display status string showing the current no of matches\n",
    "    cv2.putText(frame,str(matches),(450,450),cv2.FONT_HERSHEY_COMPLEX,2,(0,0,255),1)\n",
    "    \n",
    "    \n",
    "    #our threshold to indicate object detection\n",
    "    # we use 10 since the sift detector returns little false positives\n",
    "    threshold = 10\n",
    "    \n",
    "    # if matches exceed our threshold then object has been detected\n",
    "    if matches > threshold :\n",
    "        cv2.rectangle(frame,(top_left_x,top_left_y),(bottom_right_x,bottom_right_y),(0,0,255),3)\n",
    "        cv2.putText(frame,'object found',(50,50),cv2.FONT_HERSHEY_COMPLEX,2,(0,0,255),2)\n",
    "        \n",
    "    cv2.imshow('object detector using sift',frame)\n",
    "    if cv2.waitKey(1) == 13: #13 is enter key\n",
    "        break\n",
    "\n",
    "cap.release()\n",
    "cv2.destroyAllWindows()\n"
   ]
  },
  {
   "cell_type": "code",
   "execution_count": null,
   "metadata": {},
   "outputs": [],
   "source": []
  }
 ],
 "metadata": {
  "kernelspec": {
   "display_name": "Python 3",
   "language": "python",
   "name": "python3"
  },
  "language_info": {
   "codemirror_mode": {
    "name": "ipython",
    "version": 3
   },
   "file_extension": ".py",
   "mimetype": "text/x-python",
   "name": "python",
   "nbconvert_exporter": "python",
   "pygments_lexer": "ipython3",
   "version": "3.5.6"
  }
 },
 "nbformat": 4,
 "nbformat_minor": 2
}
